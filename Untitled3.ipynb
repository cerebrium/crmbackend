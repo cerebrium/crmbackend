{
 "cells": [
  {
   "cell_type": "code",
   "execution_count": 11,
   "metadata": {},
   "outputs": [
    {
     "name": "stdout",
     "output_type": "stream",
     "text": [
      "Statistics for t2oday:\n",
      "\n",
      " Routes:  16\n",
      " LVP:  0\n",
      " LWP:  2\n",
      "\n"
     ]
    }
   ],
   "source": [
    "import csv\n",
    "import pandas as pd\n",
    "import numpy as np\n",
    "import math \n",
    "\n",
    "    # create array\n",
    "myArray = []\n",
    "\n",
    "    # create variable for import\n",
    "data = pd.read_csv(\"monday.csv\")\n",
    "\n",
    "    # clean data -- good job, this is exactly what jupyter notebooks is for... youll need to do more of this kind of thing... for instances I removed the spaces from the \n",
    "    # csv file manually.... cant have spaces in names or will cause errors elsewhere\n",
    "data.dropna(subset=['ROUTE'], axis = 'rows', how ='all', inplace = True) \n",
    "data.fillna(0,inplace = True)\n",
    "#print(data)\n",
    "\n",
    "#----- Below are the statistics we will need\n",
    "\n",
    "\n",
    "\n",
    "#count the number of ALL routes\n",
    "#data['IN'] = data['IN'].astype(float)\n",
    "numOfRoutes = data['IN'].value_counts()['1']\n",
    "\n",
    "#count number of LVP and LWP respectively\n",
    "numOfLVP = int(data['LVP'].sum())\n",
    "numOfLWP = int(data['LWP'].sum())\n",
    "\n",
    "\n",
    "#here I just print out the results\n",
    "names = ['Routes: ', 'LVP: ', 'LWP: ']\n",
    "#print(names)\n",
    "values = [str(numOfRoutes), str(numOfLWP),str(numOfLVP)]\n",
    "#print(values)\n",
    "nl = '\\n'\n",
    "myNum = len(values)\n",
    "\n",
    "for i in names:\n",
    "    n1 = names[0] + f\" \" + values[0] + f\"{nl}\"\n",
    "    n2 = names[1] + f\" \" + values[1]+ f\"{nl}\"\n",
    "    n3 = names[2] + f\" \" + values[2]+ f\"{nl}\"\n",
    "    text = f\"Statistics for t2oday:{nl}{nl}\"\n",
    "print(text,n1,n2,n3)\n",
    "\n",
    "\n",
    "\n",
    "\n",
    "#----below is will just keep some commands i have used don't need it if you are not\n",
    "#using jyouter maybe\n",
    "\n",
    "#data.shape\n",
    "#data.columns\n",
    "#data.head(25)\n",
    "\n",
    "\n"
   ]
  }
 ],
 "metadata": {
  "kernelspec": {
   "display_name": "Django Shell-Plus",
   "language": "python",
   "name": "django_extensions"
  },
  "language_info": {
   "codemirror_mode": {
    "name": "ipython",
    "version": 3
   },
   "file_extension": ".py",
   "mimetype": "text/x-python",
   "name": "python",
   "nbconvert_exporter": "python",
   "pygments_lexer": "ipython3",
   "version": "3.8.2"
  }
 },
 "nbformat": 4,
 "nbformat_minor": 4
}
