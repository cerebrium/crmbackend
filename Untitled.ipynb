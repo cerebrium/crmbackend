{
 "cells": [
  {
   "cell_type": "code",
   "execution_count": 4,
   "metadata": {},
   "outputs": [
    {
     "name": "stdout",
     "output_type": "stream",
     "text": [
      "                    NAME   IN ROUTE LOG_IN LOG_OUT  TORH  MILEAGE  PARCEL  \\\n",
      "0       ADRIAN MACIASZEK  1.0  A101  11:00   19:20  8:20     99.0   171.0   \n",
      "2          ARTUR KOSCIEN  1.0  A108  11:00   18:44  7:44    158.0   176.0   \n",
      "4        BENJAMIN WALKER  1.0  A100  11:00   18:32  7:32    100.0   198.0   \n",
      "6           CARLOS LOPEZ  1.0  A109  11:00   18:21  7:21    159.0   193.0   \n",
      "10        DIMITAR PETKOV  1.0   A97  11:00   18:57  7:57     71.0   199.0   \n",
      "11         DIMITAR VALEV  1.0  A105  11:00   17:25  6:25    124.0   140.0   \n",
      "13       GREGORY STREETE  1.0  A104  11:00   19:20  8:20    132.0   199.0   \n",
      "14       ILIYAN STOYANOV  1.0  A107  11:00   17:13  6:13    125.0   194.0   \n",
      "17       KRASIMIR IVANOV  1.0  A102  11:00   17:58  6:58    109.0   203.0   \n",
      "18  KRZYSZTOF WIECZYNSKI  1.0  A110  11:00   17:14  6:14    152.0   205.0   \n",
      "29  ARKADIUSZ STANKEWICZ  1.0   A98  11:00   18:55  7:55     78.0   157.0   \n",
      "30          PIOTR SLODEK  1.0   A99  11:00   19:34  8:34     79.0   184.0   \n",
      "31        DIYANA NEYKOVA  1.0  A106  11:00   18:21  7:21    159.0   152.0   \n",
      "\n",
      "    LWP  LVP  ...     SUP  FUEL SUPPORT  VANS     FDDS  PHR     CALL      POD  \\\n",
      "0   0.0  0.0  ...  £18.00   0.0     0.0   0.0   99.42%  0.0   95.00%   95.00%   \n",
      "2   0.0  0.0  ...  £18.00   0.0     0.0   0.0   99.44%  0.0  100.00%  100.00%   \n",
      "4   0.0  0.0  ...  £18.00   0.0     0.0   0.0   99.50%  0.0  100.00%  100.00%   \n",
      "6   0.0  0.0  ...  £18.00   0.0     0.0   0.0  100.00%  0.0  100.00%  100.00%   \n",
      "10  0.0  0.0  ...  £18.00   0.0     0.0   0.0  100.00%  0.0  100.00%  100.00%   \n",
      "11  0.0  0.0  ...  £18.00   0.0     0.0   0.0        0  0.0        0        0   \n",
      "13  0.0  0.0  ...  £18.00   0.0     0.0   0.0   99.50%  0.0  100.00%  100.00%   \n",
      "14  0.0  0.0  ...  £18.00   0.0     0.0   0.0   99.49%  0.0  100.00%   94.12%   \n",
      "17  0.0  0.0  ...  £18.00   0.0     0.0   0.0   98.54%  0.0  100.00%  100.00%   \n",
      "18  0.0  0.0  ...  £18.00   0.0     0.0   0.0  100.00%  0.0  100.00%  100.00%   \n",
      "29  0.0  0.0  ...  £18.00   0.0     0.0   0.0   92.90%  0.0   94.74%   69.23%   \n",
      "30  0.0  0.0  ...  £18.00   0.0     0.0   0.0   99.46%  0.0  100.00%  100.00%   \n",
      "31  0.0  0.0  ...  £18.00   0.0     0.0   0.0  100.00%  0.0  100.00%  100.00%   \n",
      "\n",
      "   CONS DAILY DPMO   \n",
      "0   0.0         0.0  \n",
      "2   0.0         0.0  \n",
      "4   0.0         0.0  \n",
      "6   0.0         0.0  \n",
      "10  0.0         0.0  \n",
      "11  0.0         0.0  \n",
      "13  0.0         0.0  \n",
      "14  0.0         0.0  \n",
      "17  0.0         0.0  \n",
      "18  0.0         0.0  \n",
      "29  0.0         0.0  \n",
      "30  0.0         0.0  \n",
      "31  0.0         0.0  \n",
      "\n",
      "[13 rows x 22 columns]\n"
     ]
    }
   ],
   "source": [
    "import csv\n",
    "import pandas as pd\n",
    "import numpy as np\n",
    "import math\n",
    "\n",
    "    # create array\n",
    "myArray = []\n",
    "\n",
    "    # create variable for import\n",
    "data = pd.read_csv(\"sunday2.csv\")\n",
    "\n",
    "    # clean data -- good job, this is exactly what jupyter notebooks is for... youll need to do more of this kind of thing... for instances I removed the spaces from the \n",
    "    # csv file manually.... cant have spaces in names or will cause errors elsewhere\n",
    "data.dropna(subset=['ROUTE'], axis = 'rows', how ='all', inplace = True) \n",
    "data.fillna(0,inplace = True)\n",
    "print(data)"
   ]
  },
  {
   "cell_type": "code",
   "execution_count": null,
   "metadata": {},
   "outputs": [],
   "source": []
  }
 ],
 "metadata": {
  "kernelspec": {
   "display_name": "Django Shell-Plus",
   "language": "python",
   "name": "django_extensions"
  },
  "language_info": {
   "codemirror_mode": {
    "name": "ipython",
    "version": 3
   },
   "file_extension": ".py",
   "mimetype": "text/x-python",
   "name": "python",
   "nbconvert_exporter": "python",
   "pygments_lexer": "ipython3",
   "version": "3.8.2"
  }
 },
 "nbformat": 4,
 "nbformat_minor": 4
}
