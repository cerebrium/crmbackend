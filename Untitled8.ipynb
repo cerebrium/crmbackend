{
 "cells": [
  {
   "cell_type": "code",
   "execution_count": 59,
   "metadata": {},
   "outputs": [
    {
     "ename": "KeyError",
     "evalue": "['NAME']",
     "output_type": "error",
     "traceback": [
      "\u001b[0;31m---------------------------------------------------------------------------\u001b[0m",
      "\u001b[0;31mKeyError\u001b[0m                                  Traceback (most recent call last)",
      "\u001b[0;32m<ipython-input-59-385920f604d4>\u001b[0m in \u001b[0;36m<module>\u001b[0;34m\u001b[0m\n\u001b[1;32m      9\u001b[0m \u001b[0mmonday\u001b[0m \u001b[0;34m=\u001b[0m \u001b[0mpd\u001b[0m\u001b[0;34m.\u001b[0m\u001b[0mread_csv\u001b[0m\u001b[0;34m(\u001b[0m\u001b[0;34m\"monday.csv\"\u001b[0m\u001b[0;34m)\u001b[0m\u001b[0;34m\u001b[0m\u001b[0;34m\u001b[0m\u001b[0m\n\u001b[1;32m     10\u001b[0m \u001b[0;31m#print(monday)\u001b[0m\u001b[0;34m\u001b[0m\u001b[0;34m\u001b[0m\u001b[0;34m\u001b[0m\u001b[0m\n\u001b[0;32m---> 11\u001b[0;31m \u001b[0mmonday\u001b[0m\u001b[0;34m.\u001b[0m\u001b[0mdropna\u001b[0m\u001b[0;34m(\u001b[0m\u001b[0msubset\u001b[0m \u001b[0;34m=\u001b[0m \u001b[0;34m[\u001b[0m\u001b[0;34m'NAME'\u001b[0m\u001b[0;34m]\u001b[0m\u001b[0;34m,\u001b[0m\u001b[0maxis\u001b[0m \u001b[0;34m=\u001b[0m \u001b[0;34m'rows'\u001b[0m\u001b[0;34m,\u001b[0m \u001b[0mhow\u001b[0m \u001b[0;34m=\u001b[0m\u001b[0;34m'all'\u001b[0m\u001b[0;34m,\u001b[0m \u001b[0minplace\u001b[0m \u001b[0;34m=\u001b[0m \u001b[0;32mTrue\u001b[0m\u001b[0;34m)\u001b[0m\u001b[0;34m\u001b[0m\u001b[0;34m\u001b[0m\u001b[0m\n\u001b[0m\u001b[1;32m     12\u001b[0m \u001b[0mmonday\u001b[0m\u001b[0;34m.\u001b[0m\u001b[0mfillna\u001b[0m\u001b[0;34m(\u001b[0m\u001b[0;36m0\u001b[0m\u001b[0;34m,\u001b[0m\u001b[0minplace\u001b[0m \u001b[0;34m=\u001b[0m \u001b[0;32mTrue\u001b[0m\u001b[0;34m)\u001b[0m\u001b[0;34m\u001b[0m\u001b[0;34m\u001b[0m\u001b[0m\n\u001b[1;32m     13\u001b[0m \u001b[0mprint\u001b[0m\u001b[0;34m(\u001b[0m\u001b[0mmonday\u001b[0m\u001b[0;34m)\u001b[0m\u001b[0;34m\u001b[0m\u001b[0;34m\u001b[0m\u001b[0m\n",
      "\u001b[0;32m/Library/Frameworks/Python.framework/Versions/3.8/lib/python3.8/site-packages/pandas/core/frame.py\u001b[0m in \u001b[0;36mdropna\u001b[0;34m(self, axis, how, thresh, subset, inplace)\u001b[0m\n\u001b[1;32m   4746\u001b[0m             \u001b[0mcheck\u001b[0m \u001b[0;34m=\u001b[0m \u001b[0mindices\u001b[0m \u001b[0;34m==\u001b[0m \u001b[0;34m-\u001b[0m\u001b[0;36m1\u001b[0m\u001b[0;34m\u001b[0m\u001b[0;34m\u001b[0m\u001b[0m\n\u001b[1;32m   4747\u001b[0m             \u001b[0;32mif\u001b[0m \u001b[0mcheck\u001b[0m\u001b[0;34m.\u001b[0m\u001b[0many\u001b[0m\u001b[0;34m(\u001b[0m\u001b[0;34m)\u001b[0m\u001b[0;34m:\u001b[0m\u001b[0;34m\u001b[0m\u001b[0;34m\u001b[0m\u001b[0m\n\u001b[0;32m-> 4748\u001b[0;31m                 \u001b[0;32mraise\u001b[0m \u001b[0mKeyError\u001b[0m\u001b[0;34m(\u001b[0m\u001b[0mlist\u001b[0m\u001b[0;34m(\u001b[0m\u001b[0mnp\u001b[0m\u001b[0;34m.\u001b[0m\u001b[0mcompress\u001b[0m\u001b[0;34m(\u001b[0m\u001b[0mcheck\u001b[0m\u001b[0;34m,\u001b[0m \u001b[0msubset\u001b[0m\u001b[0;34m)\u001b[0m\u001b[0;34m)\u001b[0m\u001b[0;34m)\u001b[0m\u001b[0;34m\u001b[0m\u001b[0;34m\u001b[0m\u001b[0m\n\u001b[0m\u001b[1;32m   4749\u001b[0m             \u001b[0magg_obj\u001b[0m \u001b[0;34m=\u001b[0m \u001b[0mself\u001b[0m\u001b[0;34m.\u001b[0m\u001b[0mtake\u001b[0m\u001b[0;34m(\u001b[0m\u001b[0mindices\u001b[0m\u001b[0;34m,\u001b[0m \u001b[0maxis\u001b[0m\u001b[0;34m=\u001b[0m\u001b[0magg_axis\u001b[0m\u001b[0;34m)\u001b[0m\u001b[0;34m\u001b[0m\u001b[0;34m\u001b[0m\u001b[0m\n\u001b[1;32m   4750\u001b[0m \u001b[0;34m\u001b[0m\u001b[0m\n",
      "\u001b[0;31mKeyError\u001b[0m: ['NAME']"
     ]
    }
   ],
   "source": [
    "import csv\n",
    "import pandas as pd\n",
    "import numpy as np\n",
    "import math\n",
    "\n",
    "myFields = []\n",
    "\n",
    "\n",
    "monday = pd.read_csv(\"monday.csv\")\n",
    "#print(monday)\n",
    "monday.dropna(subset = ['NAME'],axis = 'rows', how ='all', inplace = True)\n",
    "monday.fillna(0,inplace = True)\n",
    "print(monday)\n",
    "\n",
    "\n",
    "#     dbData = dbData[:16] \n",
    "#     payroll['name'] = dbData[0]\n",
    "#     payroll['inOff'] = dbData[1]\n",
    "#     payroll['route'] = dbData[2]\n",
    "#     payroll['logIn_time'] = dbData[3]\n",
    "#     payroll['logOut_time'] = dbData[4]\n",
    "#     payroll['mileage'] = dbData[6]\n",
    "#     payroll['parcel'] = dbData[7]\n",
    "#     print(payroll)\n",
    "\n",
    "\n",
    "\n"
   ]
  },
  {
   "cell_type": "code",
   "execution_count": 72,
   "metadata": {},
   "outputs": [
    {
     "name": "stdout",
     "output_type": "stream",
     "text": [
      "                 NAME   IN  ROUTE  LOG IN LOG OUT   TORH  MILEAGE  PARCEL   \\\n",
      "0     ADRIAN MACIASZEK    1   A176  10:30    16:52  6:22    110.0    153.0   \n",
      "1     ADRIAN NAGLEWICZ  NaN    NaN    NaN      NaN   NaN      NaN      NaN   \n",
      "2        ARTUR KOSCIEN  NaN    MFN  14:00    17:00  3:00     85.0      0.0   \n",
      "3      BENJAMIN WALKER  NaN    NaN    NaN      NaN   NaN      NaN      NaN   \n",
      "4       BLAZEJ KOSTERA    1   A169  10:30    17:10  6:40    129.0    198.0   \n",
      "5         CARLOS LOPEZ    1   A180  10:30    18:59  8:29    166.0    205.0   \n",
      "6        COLE THOMPSON  NaN    NaN    NaN      NaN   NaN      NaN      NaN   \n",
      "7      DANIEL ATANASOV  NaN    NaN    NaN      NaN   NaN      NaN      NaN   \n",
      "8        DANIEL PETROV    1   A170  10:30    17:46  7:16    124.0    223.0   \n",
      "9       DIMITAR PETKOV    1   A175  10:30    18:17  7:47     93.0    227.0   \n",
      "10       DIMITAR VALEV  NaN    NaN    NaN      NaN   NaN      NaN      NaN   \n",
      "11  DYLAN PAUL ROBERTS  NaN    NaN    NaN      NaN   NaN      NaN      NaN   \n",
      "12         EDWARD LOCK    1   A174  10:30    18:10  7:40    104.0    167.0   \n",
      "13    GALIN PETKOV\\r\\n    1   A179  10:30    18:40  8:10    161.0    170.0   \n",
      "14     GREGORY STREETE    1   A171  10:30    18:59  8:29    153.0    188.0   \n",
      "15     ILIYAN STOYANOV  NaN    NaN    NaN      NaN   NaN      NaN      NaN   \n",
      "\n",
      "    LWP   LVP  ...  FUEL   SUPPORT  VANS  Unnamed: 16    FDDS  PHR     CALL  \\\n",
      "0    NaN  NaN  ...    NaN       NaN   NaN         NaN   98.71% NaN  100.00%   \n",
      "1    NaN  NaN  ...    NaN       NaN   NaN         NaN      NaN NaN      NaN   \n",
      "2    NaN  NaN  ...    NaN       NaN   NaN         NaN      NaN NaN      NaN   \n",
      "3    NaN  NaN  ...    NaN       NaN   NaN         NaN      NaN NaN      NaN   \n",
      "4    NaN  1.0  ...    NaN       NaN   NaN         NaN   99.51% NaN  100.00%   \n",
      "5    NaN  NaN  ...    NaN       NaN   NaN         NaN   99.55% NaN  100.00%   \n",
      "6    NaN  NaN  ...    NaN       NaN   NaN         NaN      NaN NaN      NaN   \n",
      "7    NaN  NaN  ...    NaN       NaN   NaN         NaN      NaN NaN      NaN   \n",
      "8    NaN  1.0  ...    NaN       NaN   NaN         NaN   99.55% NaN  100.00%   \n",
      "9    NaN  NaN  ...    NaN       NaN   NaN         NaN   99.56% NaN  100.00%   \n",
      "10   NaN  NaN  ...    NaN       NaN   NaN         NaN      NaN NaN      NaN   \n",
      "11   NaN  NaN  ...    NaN       NaN   NaN         NaN      NaN NaN      NaN   \n",
      "12   NaN  NaN  ...    NaN       NaN   NaN         NaN  100.00% NaN  100.00%   \n",
      "13   NaN  NaN  ...    NaN       NaN   NaN         NaN  100.00% NaN  100.00%   \n",
      "14   NaN  NaN  ...    NaN       NaN   NaN         NaN  100.00% NaN  100.00%   \n",
      "15   NaN  NaN  ...    NaN       NaN   NaN         NaN      NaN NaN      NaN   \n",
      "\n",
      "       POD   CONS  DAILY DPMO   \n",
      "0    94.74%    NaN         0.0  \n",
      "1       NaN    NaN         NaN  \n",
      "2       NaN    NaN         NaN  \n",
      "3       NaN    NaN         NaN  \n",
      "4   100.00%    NaN         0.0  \n",
      "5   100.00%    NaN         0.0  \n",
      "6       NaN    NaN         NaN  \n",
      "7       NaN    NaN         NaN  \n",
      "8   100.00%    NaN         0.0  \n",
      "9    92.86%    NaN         0.0  \n",
      "10      NaN    NaN         NaN  \n",
      "11      NaN    NaN         NaN  \n",
      "12  100.00%    NaN         0.0  \n",
      "13  100.00%    NaN         0.0  \n",
      "14  100.00%    NaN         0.0  \n",
      "15      NaN    NaN         NaN  \n",
      "\n",
      "[16 rows x 23 columns]\n"
     ]
    }
   ],
   "source": [
    "print(monday[0:16])"
   ]
  },
  {
   "cell_type": "code",
   "execution_count": null,
   "metadata": {},
   "outputs": [],
   "source": []
  }
 ],
 "metadata": {
  "kernelspec": {
   "display_name": "Django Shell-Plus",
   "language": "python",
   "name": "django_extensions"
  },
  "language_info": {
   "codemirror_mode": {
    "name": "ipython",
    "version": 3
   },
   "file_extension": ".py",
   "mimetype": "text/x-python",
   "name": "python",
   "nbconvert_exporter": "python",
   "pygments_lexer": "ipython3",
   "version": "3.8.2"
  }
 },
 "nbformat": 4,
 "nbformat_minor": 4
}
